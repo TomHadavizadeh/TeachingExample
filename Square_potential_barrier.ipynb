{
 "cells": [
  {
   "cell_type": "markdown",
   "id": "4e34398e",
   "metadata": {},
   "source": [
    "# Interactive Quantum Mechanics Examples\n",
    "\n",
    "This notebook contains interactive examples of different quantum mechanical situations. "
   ]
  },
  {
   "cell_type": "code",
   "execution_count": 12,
   "id": "d89ded8a",
   "metadata": {},
   "outputs": [],
   "source": [
    "import math\n",
    "import numpy as np\n",
    "import matplotlib.pyplot as plt\n",
    "from matplotlib import figure\n",
    "from ipywidgets import interact, FloatSlider, IntSlider"
   ]
  },
  {
   "cell_type": "markdown",
   "id": "6e403c6d",
   "metadata": {},
   "source": [
    "## Part 1: The step potential\n",
    "\n",
    "For the step potential there are two regions:\n",
    "   - Region 1: $V = 0$ for $x<0$\n",
    "   - Region 2: $V = V_0$ for $x>0$"
   ]
  },
  {
   "cell_type": "code",
   "execution_count": 24,
   "id": "5ba100d2",
   "metadata": {},
   "outputs": [],
   "source": [
    "## Define the wavefunction as it's own function so we can reuse it\n",
    "def calc_step_wavefunction(x,V,E):\n",
    "    # Calculate the wave numbers\n",
    "    k_out = np.sqrt(2*(1.+0.j)*E)\n",
    "    k_in  = np.sqrt(2*(1.+0.j)*(E-V)) \n",
    "     \n",
    "    r = (k_out-k_in)/(k_out+k_in)\n",
    "    t = 2*k_out/(k_out+k_in)\n",
    "\n",
    "    fcn_r1_plus  =   np.exp( 1.j*x*k_out)*(x<0.0)\n",
    "    fcn_r1_minus = r*np.exp(-1.j*x*k_out)*(x<0.0)\n",
    "    fcn_r2_plus  = t*np.exp( 1.j*x*k_in) *(x>0.0) \n",
    "    \n",
    "    wavefunction = fcn_r1_plus + fcn_r1_minus + fcn_r2_plus\n",
    "    \n",
    "    return {\"total\"    : wavefunction,\n",
    "            \"r1_plus\"  : fcn_r1_plus,\n",
    "            \"r1_minus\" : fcn_r1_minus,\n",
    "            \"r2_plus\"  : fcn_r2_plus,\n",
    "            \"t\"        : t,\n",
    "            \"r\"        : r}"
   ]
  },
  {
   "cell_type": "code",
   "execution_count": 9,
   "id": "15ba306e",
   "metadata": {},
   "outputs": [
    {
     "data": {
      "application/vnd.jupyter.widget-view+json": {
       "model_id": "76294648b59e4cbda16dac34ee13bcfa",
       "version_major": 2,
       "version_minor": 0
      },
      "text/plain": [
       "interactive(children=(FloatSlider(value=2.0, description='V', max=6.0, min=-2.0), FloatSlider(value=1.0, descr…"
      ]
     },
     "metadata": {},
     "output_type": "display_data"
    }
   ],
   "source": [
    "@interact\n",
    "def step_potential(V=2.0,E=1.0):\n",
    "    # Set up the x axis\n",
    "    min_val = -10.0\n",
    "    max_val =  10.0\n",
    "    x = np.linspace(min_val, max_val, 1000)\n",
    "\n",
    "    # Draw the potential function \n",
    "    potential=V*(x>0.0)\n",
    "    energy = E*(x<=max_val)\n",
    "    \n",
    "    # Calculate the wavefunction\n",
    "    wavefunction = calc_step_wavefunction(x,V,E)\n",
    "    \n",
    "    # Plot the real and imaginary parts\n",
    "    fig, ax = plt.subplots(1, 1,figsize=(10,5))\n",
    "    ax.plot(x, np.real(wavefunction['total']),color='lightblue')\n",
    "    ax.plot(x, np.imag(wavefunction['total']),color='lightblue',linestyle='--')\n",
    "    ax.plot(x, potential)\n",
    "    ax.plot(x, energy)\n",
    "    ax.set_ylabel('$\\psi(x)$')\n",
    "    ax.set_xlabel('x')\n",
    "    ax.set_ylim([-5, 5])\n",
    "\n",
    "    return plt.figure()"
   ]
  },
  {
   "cell_type": "code",
   "execution_count": 11,
   "id": "8642b0b7",
   "metadata": {},
   "outputs": [
    {
     "data": {
      "application/vnd.jupyter.widget-view+json": {
       "model_id": "aef9a4cbec724c8d92168e74dfb58112",
       "version_major": 2,
       "version_minor": 0
      },
      "text/plain": [
       "interactive(children=(FloatSlider(value=1.0, description='a', max=3.0, min=-1.0), Output()), _dom_classes=('wi…"
      ]
     },
     "metadata": {},
     "output_type": "display_data"
    }
   ],
   "source": [
    "@interact\n",
    "def step_transmission(a=1.0):\n",
    "    ## Set up the \n",
    "    min_val =  0.0\n",
    "    max_val =  3.1\n",
    "    E = np.linspace(min_val, max_val, 1000)\n",
    "    V = 1.0\n",
    "    classical = (E>V)\n",
    "    wavefunction = calc_step_wavefunction(a+1,V,E)\n",
    "    \n",
    "    fig, ax = plt.subplots(1, 2,figsize=(10,5))\n",
    "    \n",
    "    ax[0].plot(E, np.abs(wavefunction['t']*wavefunction['t']))\n",
    "    ax[0].plot(E, classical, color='black', linestyle='--')\n",
    "    ax[0].set_ylabel('Transmission probability')\n",
    "    ax[0].set_xlabel('E')\n",
    "    ax[0].set_ylim([0, 1.1])\n",
    "    \n",
    "    ax[1].plot(E, np.abs(wavefunction['r']*wavefunction['r']))\n",
    "    ax[1].plot(E, (E<V), color='black', linestyle='--')\n",
    "    ax[1].set_ylabel('Reflection probability')\n",
    "    ax[1].set_xlabel('E')\n",
    "    ax[1].set_ylim([0, 1.1])\n",
    "\n",
    "    return plt.figure()"
   ]
  },
  {
   "cell_type": "markdown",
   "id": "4609bb53",
   "metadata": {},
   "source": [
    "## Part 2: The square barrier potential "
   ]
  },
  {
   "cell_type": "markdown",
   "id": "e0ad528c",
   "metadata": {},
   "source": [
    "$$\n",
    "\\begin{align}\n",
    "\\psi_{1}(x) &= A e^{ik_{out}x} + B e^{-ik_{out}x}  \\\\\n",
    "\\psi_{2}(x) &= C e^{ik_{in}x} + D e^{-ik_{in}x} \\\\\n",
    "\\psi_{3}(x) &= E e^{ik_{in}x}\n",
    "\\end{align}\n",
    "$$\n",
    "\n",
    "Where\n",
    "\n",
    "$$\n",
    "k_{out} = \\sqrt{\\frac{2m(E)}{\\hbar^2}}\n",
    "$$\n",
    "\n",
    "\n",
    "$$\n",
    "k_{in} = \\sqrt{\\frac{2m(E - V)}{\\hbar^2}}\n",
    "$$\n",
    "\n",
    "If $E<V$ $k_{in}$ becomes imaginary, changing the wavefunction to the sum of two exponetials. \n",
    "Rewrite it as $ k_{in} = i q$ so the wavefunction becomes \n",
    "$$\n",
    "\\psi_{2}(x) = C e^{-qx} + D e^{qx}\n",
    "$$\n",
    "\n",
    "We can measure the various components relative to the coefficienct $A$.  \n",
    "\n",
    "The wave function must be continuous so we have the following boundary conditions:\n",
    "\n",
    "$$\n",
    "\\begin{align}\n",
    "\\psi_{1}(0) &= \\psi_{2}(0)\\\\\n",
    "\\frac{d\\psi_{1}(0)}{dx} &= \\frac{d\\psi_{2}(0)}{dx}\\\\\n",
    "\\psi_{2}(a) &= \\psi_{3}(a)\\\\\n",
    "\\frac{d\\psi_{2}(a)}{dx} &= \\frac{d\\psi_{3}(a)}{dx}\n",
    "\\end{align}\n",
    "$$\n",
    "\n",
    "This gives us the following set of simultanious equations\n",
    "$$\n",
    "\\begin{align}\n",
    "A          + B         &= C + D\\\\\n",
    "ik_{out}A   - ik_{out}B &= ik_{in}C -ik_{in} D\\\\\n",
    "C e^{ik_{in}a}  + D e^{-ik_{in}a}  &= E e^{ik_{out}a}\\\\\n",
    "ik_{in}C e^{ik_{in}a}-ik_{in}D e^{-ik_{in}a} &= ik_{out}E e^{ik_{out}a}\n",
    "\\end{align}\n",
    "$$\n",
    "\n",
    "Now we can set $A = 1$, $B=r$ and $C=t$ to represent the incoming, reclected and transmitted\n",
    "$$\n",
    "\\begin{align}\n",
    "1          + r         &= C + D\\\\\n",
    "ik_{out}   - ik_{out}r &= ik_{in}C -ik_{in} D\\\\\n",
    "C e^{ik_{in}a}  + D e^{-ik_{in}a}  &= t e^{ik_{out}a}\\\\\n",
    "ik_{in}C e^{ik_{in}a}-ik_{in}D e^{-ik_{in}a} &= ik_{out}t e^{ik_{out}a}\n",
    "\\end{align}\n",
    "$$\n",
    "\n",
    "Rearranging the second equation gives us\n",
    "$$\n",
    "\\frac{k_{out}}{k_{in}}(1-r) = C-D\n",
    "$$\n",
    "Now, adding and/or substracting this with the first equation gives us\n",
    "\n",
    "$$\n",
    "\\begin{align}\n",
    "2C &=1+r+\\frac{k_{out}}{k_{in}}(1-r) \\\\\n",
    "2D &=1+r-\\frac{k_{out}}{k_{in}}(1-r) \\\\\n",
    "\\end{align}\n",
    "$$\n",
    "Simiarly, the fourth equation can be rearranged to give\n",
    "$$\n",
    "C e^{ik_{in}a} - D e^{-ik_{in}a} = \\frac{k_{out}} {k_{in}} t e^{ik_{out}a}\n",
    "$$\n",
    "\n",
    "which can be added and subtracted to the third equation to give\n",
    "\n",
    "$$\n",
    "\\begin{align}\n",
    "2C e^{ik_{in}a}&= t e^{ik_{out}a} + \\frac{k_{out}}{k_{in}}t e^{ik_{out}a}\\\\\n",
    "2D e^{-ik_{in}a}&= t e^{ik_{out}a} - \\frac{k_{out}}{k_{in}}t e^{ik_{out}a}\\\\\n",
    "\\end{align}\n",
    "$$\n",
    "\n",
    "We can show that\n",
    "\n",
    "$$\n",
    "r = \\frac{(k_{out}^2-k_{in}^2)\\sin(ak_{in})}{2ik_{out}k_{in}\\cos(ak_{in}) +(k_{out}^2+k_{in}^2)\\sin(ak_{in}) }\n",
    "$$\n",
    "\n",
    "$$\n",
    "t = \\frac{4 k_{in} k_{out} e^{-ia(k_{out}-k_{in})} }{ (k_{out}+k_{in})^2 - e^{2iak_{in}}(k_{out}-k_{in})^2 } \n",
    "$$"
   ]
  },
  {
   "cell_type": "code",
   "execution_count": 2,
   "id": "65d7aa73",
   "metadata": {},
   "outputs": [],
   "source": [
    "## Define the wavefunction as it's own function so we can reuse it\n",
    "\n",
    "def calc_wavefunction(x,a,V,E):\n",
    "    # Calculate the wave numbers\n",
    "    k_out = np.sqrt(2*(1.+0.j)*E)\n",
    "    k_in  = np.sqrt(2*(1.+0.j)*(E-V)) \n",
    "     \n",
    "    r = ((k_out*k_out-k_in*k_in)*np.sin(a*k_in)) / (2.j*k_out * k_in * np.cos(a*k_in) + (k_out*k_out + k_in*k_in) * np.sin(a*k_in))\n",
    "    t = (4*k_in*k_out*np.exp(-1.j*a*(k_out-k_in)) ) / ((k_out+k_in)**2 - np.exp(2.j*a*k_in)*(k_out-k_in)**2)\n",
    "    \n",
    "    C = 0.5*(1+r+(k_out/k_in)*(1-r) )\n",
    "    D = 0.5*(1+r-(k_out/k_in)*(1-r) )\n",
    "    \n",
    "    fcn_r1_plus  =   np.exp( 1.j*x*k_out)*(x<0.0)\n",
    "    fcn_r1_minus = r*np.exp(-1.j*x*k_out)*(x<0.0)\n",
    "    fcn_r2_plus  = C*np.exp( 1.j*x*k_in) *((x>0.0)& (x<a)) \n",
    "    fcn_r2_minus = D*np.exp(-1.j*x*k_in) *((x>0.0)& (x<a))\n",
    "    fcn_r3_plus  = t*np.exp( 1.j*x*k_out)*(x>a)\n",
    "    \n",
    "    wavefunction = fcn_r1_plus + fcn_r1_minus + fcn_r2_plus + fcn_r2_minus + fcn_r3_plus \n",
    "    \n",
    "    return {\"total\"    : wavefunction,\n",
    "            \"r1_plus\"  : fcn_r1_plus,\n",
    "            \"r1_minus\" : fcn_r1_minus,\n",
    "            \"r2_plus\"  : fcn_r2_plus,\n",
    "            \"r2_minus\" : fcn_r2_minus,\n",
    "            \"r3_plus\"  : fcn_r3_plus,\n",
    "            \"t\"        : t,\n",
    "            \"r\"        : r}\n"
   ]
  },
  {
   "cell_type": "code",
   "execution_count": 26,
   "id": "e56ce577",
   "metadata": {},
   "outputs": [
    {
     "data": {
      "application/vnd.jupyter.widget-view+json": {
       "model_id": "931076e5eaa0432e8b969af136023e77",
       "version_major": 2,
       "version_minor": 0
      },
      "text/plain": [
       "interactive(children=(FloatSlider(value=1.0, description='a [fm]', max=5.0, min=0.01), FloatSlider(value=2.0, …"
      ]
     },
     "metadata": {},
     "output_type": "display_data"
    }
   ],
   "source": [
    "a = FloatSlider(value = 1.0, min=0.01, max=5.0, steps=0.1,description = 'a [fm]')\n",
    "E = FloatSlider(value = 1.0, min=0.01, max=5.0, steps=0.1,description = 'E [MeV]')\n",
    "V = FloatSlider(value = 2.0, min=0.01, max=5.0, steps=0.1,description = 'V [MeV]')\n",
    "@interact\n",
    "def square_barrier(a=a,V=V,E=E):\n",
    "    # Set up the x axis\n",
    "    min_val = -10.0\n",
    "    max_val =  10.0\n",
    "    x = np.linspace(min_val, max_val, 1000)\n",
    "\n",
    "    # Draw the potential function \n",
    "    potential=V*( (x>0.0)& (x<a))\n",
    "    energy = E*(x<=max_val)\n",
    "    \n",
    "    # Calculate the wavefunction\n",
    "    wavefunction = calc_wavefunction(x,a,V,E)\n",
    "    \n",
    "    # Plot the real and imaginary parts\n",
    "    fig, ax = plt.subplots(1, 1,figsize=(10,5))\n",
    "    ax.plot(x, np.real(wavefunction['total']),color='lightblue')\n",
    "    ax.plot(x, np.imag(wavefunction['total']),color='lightblue',linestyle='--')\n",
    "    ax.plot(x, potential)\n",
    "    ax.plot(x, energy)\n",
    "    ax.set_ylabel('$\\psi(x)$')\n",
    "    ax.set_xlabel('x')\n",
    "    ax.set_ylim([-5, 5])\n",
    "\n",
    "    return plt.figure()"
   ]
  },
  {
   "cell_type": "code",
   "execution_count": 19,
   "id": "964c29d1",
   "metadata": {},
   "outputs": [
    {
     "data": {
      "application/vnd.jupyter.widget-view+json": {
       "model_id": "cc2c309decb942e08371c427c3282ba8",
       "version_major": 2,
       "version_minor": 0
      },
      "text/plain": [
       "interactive(children=(FloatSlider(value=1.0, description='a', max=5.0, min=0.01), Output()), _dom_classes=('wi…"
      ]
     },
     "metadata": {},
     "output_type": "display_data"
    }
   ],
   "source": [
    "a = FloatSlider(value = 1.0, min=0.01, max=5.0, steps=0.1)\n",
    "@interact\n",
    "def transmission(a=a):\n",
    "    ## Set up the \n",
    "    min_val =  0.0\n",
    "    max_val =  3.1\n",
    "    E = np.linspace(min_val, max_val, 1000)\n",
    "    V = -1.0\n",
    "    classical = (E>V)\n",
    "    wavefunction = calc_wavefunction(a+1,a,V,E)\n",
    "    \n",
    "    fig, ax = plt.subplots(1, 2,figsize=(10,5))\n",
    "    \n",
    "    ax[0].plot(E, np.abs(wavefunction['t']*wavefunction['t']))\n",
    "    ax[0].plot(E, classical, color='black', linestyle='--')\n",
    "    ax[0].set_ylabel('Transmission probability')\n",
    "    ax[0].set_xlabel('E')\n",
    "    ax[0].set_ylim([0, 1.1])\n",
    "    \n",
    "    ax[1].plot(E, np.abs(wavefunction['r']*wavefunction['r']))\n",
    "    ax[1].plot(E, (E<V), color='black', linestyle='--')\n",
    "    ax[1].set_ylabel('Reflection probability')\n",
    "    ax[1].set_xlabel('E')\n",
    "    ax[1].set_ylim([0, 1.1])\n",
    "\n",
    "    return plt.figure()"
   ]
  },
  {
   "cell_type": "code",
   "execution_count": null,
   "id": "56f09662",
   "metadata": {},
   "outputs": [],
   "source": []
  }
 ],
 "metadata": {
  "kernelspec": {
   "display_name": "Python 3 (ipykernel)",
   "language": "python",
   "name": "python3"
  },
  "language_info": {
   "codemirror_mode": {
    "name": "ipython",
    "version": 3
   },
   "file_extension": ".py",
   "mimetype": "text/x-python",
   "name": "python",
   "nbconvert_exporter": "python",
   "pygments_lexer": "ipython3",
   "version": "3.10.4"
  }
 },
 "nbformat": 4,
 "nbformat_minor": 5
}
