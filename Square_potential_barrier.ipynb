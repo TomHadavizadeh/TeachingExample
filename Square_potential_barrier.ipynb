{
 "cells": [
  {
   "cell_type": "markdown",
   "id": "4e34398e",
   "metadata": {},
   "source": [
    "# Interactive Quantum Mechanics Examples\n",
    "\n",
    "This notebook contains interactive examples of different quantum mechanical situations. "
   ]
  },
  {
   "cell_type": "code",
   "execution_count": null,
   "id": "210497be",
   "metadata": {},
   "outputs": [],
   "source": [
    "## make sure numpy and matplotlib are installed\n",
    "!pip install numpy matplotlib"
   ]
  },
  {
   "cell_type": "code",
   "execution_count": 78,
   "id": "d89ded8a",
   "metadata": {},
   "outputs": [],
   "source": [
    "import math\n",
    "import numpy as np\n",
    "import matplotlib.pyplot as plt\n",
    "from matplotlib import figure\n",
    "from ipywidgets import interact, FloatSlider, IntSlider\n",
    "\n",
    "hbarc = 197.3269804 ## in units [MeV] [fm]"
   ]
  },
  {
   "cell_type": "markdown",
   "id": "6e403c6d",
   "metadata": {},
   "source": [
    "## Part 1: The step potential\n",
    "\n",
    "For the step potential there are two regions:\n",
    "   - Region 1: $V = 0$ for $x<0$\n",
    "   - Region 2: $V = V_0$ for $x>0$\n",
    "   \n",
    "The general solutions to the Schrodinger equation can be written in the form \n",
    "$$\n",
    "\\begin{align}\n",
    "\\psi_1(x) &= A e^{ik_1x} + B e^{-ik_1x}\\\\\n",
    "\\psi_2(x) &= C e^{ik_2x} + D e^{-ik_2x},\n",
    "\\end{align}\n",
    "$$\n",
    "where the wave numbers are given by\n",
    "$$\n",
    "\\begin{align}\n",
    "k_{1}  &= \\sqrt{\\frac{2m(E)}{\\hbar^2}}\\\\\n",
    "k_{2}  &= \\sqrt{\\frac{2m(E - V)}{\\hbar^2}}\n",
    "\\end{align}\n",
    "$$\n",
    "\n",
    "\n",
    "In the course notes you will have seen that the solutions can be written in the form  \n",
    "$$\n",
    "\\begin{align}\n",
    "\\psi_1(x) &= e^{ik_1x} + r e^{-ik_1x}\\\\\n",
    "\\psi_2(x) &= t e^{ik_2x},\n",
    "\\end{align}\n",
    "$$ \n",
    "where $r$ and $t$ are given by \n",
    "$$\n",
    "\\begin{align}\n",
    "r &= \\frac{k_1-k_2}{k_1+k_2}\\\\\n",
    "t &= \\frac{2k_1}{k_1+k_2}.\n",
    "\\end{align}\n",
    "$$\n",
    "We will now visualize these results interactively. "
   ]
  },
  {
   "cell_type": "code",
   "execution_count": 79,
   "id": "5ba100d2",
   "metadata": {},
   "outputs": [],
   "source": [
    "## Define the wavefunction as it's own function so we can reuse it\n",
    "def calc_step_wavefunction(x,V,E,m):\n",
    "    # Calculate the wave numbers\n",
    "    k_1 = np.sqrt(2*m*(1.+0.j)*E/hbarc**2)\n",
    "    k_2 = np.sqrt(2*m*(1.+0.j)*(E-V)/hbarc**2) \n",
    "     \n",
    "    r = (k_1-k_2)/(k_1+k_2)\n",
    "    t = 2*k_1/(k_1+k_2)\n",
    "\n",
    "    psi_1_plus  =   np.exp( 1.j*x*k_1)*(x<0.0)\n",
    "    psi_1_minus = r*np.exp(-1.j*x*k_1)*(x<0.0)\n",
    "    psi_2_plus  = t*np.exp( 1.j*x*k_2)*(x>0.0) \n",
    "    \n",
    "    wavefunction = psi_1_plus + psi_1_minus + psi_2_plus\n",
    "    \n",
    "    return {\"total\"       : wavefunction,\n",
    "            \"psi_1_plus\"  : psi_1_plus,\n",
    "            \"psi_1_minus\" : psi_1_minus,\n",
    "            \"psi_2_plus\"  : psi_2_plus,\n",
    "            \"t\"           : t,\n",
    "            \"r\"           : r}"
   ]
  },
  {
   "cell_type": "code",
   "execution_count": 80,
   "id": "15ba306e",
   "metadata": {},
   "outputs": [
    {
     "data": {
      "application/vnd.jupyter.widget-view+json": {
       "model_id": "9dc1e00b1f7b433486f612ea6460874b",
       "version_major": 2,
       "version_minor": 0
      },
      "text/plain": [
       "interactive(children=(FloatSlider(value=2.0, description='V [MeV]', max=5.0, min=0.01), FloatSlider(value=1.0,…"
      ]
     },
     "metadata": {},
     "output_type": "display_data"
    }
   ],
   "source": [
    "m = FloatSlider(value = 0.5, min=0.01, max=5.0, steps=0.1,description = 'm [MeV/$c^2$]')\n",
    "E = FloatSlider(value = 1.0, min=0.01, max=5.0, steps=0.1,description = 'E [MeV]')\n",
    "V = FloatSlider(value = 2.0, min=0.01, max=5.0, steps=0.1,description = 'V [MeV]')\n",
    "@interact\n",
    "def step_potential(V=V,E=E,m=m):\n",
    "    # Set up the x axis\n",
    "    min_val = -2000.0\n",
    "    max_val =  2000.0\n",
    "    x = np.linspace(min_val, max_val, 1000)\n",
    "\n",
    "    # Draw the potential function \n",
    "    potential=V*(x>0.0)\n",
    "    energy = E*(x<=max_val)\n",
    "    \n",
    "    # Calculate the wavefunction\n",
    "    wavefunction = calc_step_wavefunction(x,V,E,m)\n",
    "    R = np.abs(wavefunction['r'])**2\n",
    "    # Plot the real and imaginary parts\n",
    "    fig, ax = plt.subplots(1, 1,figsize=(10,5))\n",
    "    ax.plot(x, np.real(wavefunction['total']),color='lightblue',label='Real part of $\\psi(x)$')\n",
    "    ax.plot(x, np.imag(wavefunction['total']),color='lightblue',linestyle='--',label= f'Imaginary part of $\\psi(x)$')\n",
    "    ax.set_ylabel('$\\psi(x)$')\n",
    "    ax.set_xlabel('x [fm]')\n",
    "    ax.set_ylim([-5, 5])\n",
    "    ax.set_xlim([min_val, max_val])\n",
    "    ax.legend(loc='upper left')\n",
    "    \n",
    "    ax2=ax.twinx()\n",
    "    ax2.set_ylabel('Energy [MeV]')\n",
    "    ax2.plot(x, potential,label= 'Potential energy')\n",
    "    ax2.plot(x, energy,label= 'Total energy')\n",
    "    ax2.set_ylim([-5, 5])\n",
    "    ax2.set_xlim([min_val, max_val])\n",
    "    ax2.legend(loc='upper right')\n",
    "    return plt.figure()"
   ]
  },
  {
   "cell_type": "markdown",
   "id": "b4ba4fd9",
   "metadata": {},
   "source": [
    "### Avenues of investigation \n",
    "Here you have a chance to become familiar with the solutions to schrodinger equation. \n",
    "Investigate how the solution changes as you change the parameter values:\n",
    "- Describe how the wave function changes when the particle energy $E$ and the potential height $V_0$ are varied. Investigate for both $E>V_0$ and $E<V_0$.\n",
    "- When $E<V_0$, how does the potential height and particle mass affect the amplitude of the exponentially falling wavefunction inside the barrier? \n",
    "\n",
    "### The reflection and transmission coefficiencts\n",
    "We can also plot how the reflection and transmission coefficiencts vary as a function of the energy.\n",
    "The probability that the particle reflects off the potential step is given by the squared magnitude of $r$\n",
    "$$\n",
    "R = |r|^2\n",
    "$$\n",
    "Similarly, the probability that the particle is transmitted is given by $T = 1 - R$ because these two probabilities must sum to 1, i.e. the particle has to go *somewhere*.  "
   ]
  },
  {
   "cell_type": "code",
   "execution_count": 81,
   "id": "8642b0b7",
   "metadata": {},
   "outputs": [
    {
     "data": {
      "application/vnd.jupyter.widget-view+json": {
       "model_id": "d423e6901c264f70a9986de5d5240d91",
       "version_major": 2,
       "version_minor": 0
      },
      "text/plain": [
       "interactive(children=(FloatSlider(value=2.0, description='V [MeV]', max=5.0, min=0.01), FloatSlider(value=0.5,…"
      ]
     },
     "metadata": {},
     "output_type": "display_data"
    }
   ],
   "source": [
    "m = FloatSlider(value = 0.5, min=0.01, max=5.0, steps=0.1,description = 'm [MeV/$c^2$]')\n",
    "V = FloatSlider(value = 2.0, min=0.01, max=5.0, steps=0.1,description = 'V [MeV]')\n",
    "@interact\n",
    "def step_transmission(V=V,m=m):\n",
    "    ## Set up the \n",
    "    min_val =  0.0\n",
    "    max_val =  3.1\n",
    "    E = np.linspace(min_val, max_val, 1000)\n",
    "    classical = (E>V)\n",
    "    wavefunction = calc_step_wavefunction(1,V,E,m)\n",
    "    \n",
    "    ## Create reflection and transmission probability\n",
    "    R = np.abs(wavefunction['r'])**2\n",
    "    T = 1-R \n",
    "    \n",
    "    fig, ax = plt.subplots(1, 2,figsize=(10,5))\n",
    "    ax[0].plot(E, T)\n",
    "    ax[0].plot(E, classical, color='black', linestyle='--')\n",
    "    ax[0].set_ylabel('Transmission probability')\n",
    "    ax[0].set_xlabel('E')\n",
    "    ax[0].set_ylim([0, 1.1])\n",
    "    \n",
    "    ax[1].plot(E, R)\n",
    "    ax[1].plot(E, (E<V), color='black', linestyle='--')\n",
    "    ax[1].set_ylabel('Reflection probability')\n",
    "    ax[1].set_xlabel('E')\n",
    "    ax[1].set_ylim([0, 1.1])\n",
    "\n",
    "    return plt.figure()"
   ]
  },
  {
   "cell_type": "markdown",
   "id": "4609bb53",
   "metadata": {},
   "source": [
    "### Investigating reflection and transmission\n",
    "\n",
    "\n",
    "\n",
    "## Part 2: The square barrier potential "
   ]
  },
  {
   "cell_type": "markdown",
   "id": "e0ad528c",
   "metadata": {},
   "source": [
    "For the square barrier potential we create three regions, allowing the w\n",
    "$$\n",
    "\\begin{align}\n",
    "\\psi_{1}(x) &= A e^{ik_{out}x} + B e^{-ik_{out}x}  \\\\\n",
    "\\psi_{2}(x) &= C e^{ik_{in}x} + D e^{-ik_{in}x} \\\\\n",
    "\\psi_{3}(x) &= E e^{ik_{in}x}\n",
    "\\end{align}\n",
    "$$\n",
    "\n",
    "Where\n",
    "\n",
    "$$\n",
    "k_{out} = \\sqrt{\\frac{2m(E)}{\\hbar^2}}\n",
    "$$\n",
    "\n",
    "\n",
    "$$\n",
    "k_{in} = \\sqrt{\\frac{2m(E - V)}{\\hbar^2}}\n",
    "$$\n",
    "\n",
    "If $E<V$ $k_{in}$ becomes imaginary, changing the wavefunction to the sum of two exponetials. \n",
    "Rewrite it as $ k_{in} = i q$ so the wavefunction becomes \n",
    "$$\n",
    "\\psi_{2}(x) = C e^{-qx} + D e^{qx}\n",
    "$$\n",
    "\n",
    "We can measure the various components relative to the coefficienct $A$.  \n",
    "\n",
    "The wave function must be continuous so we have the following boundary conditions:\n",
    "\n",
    "$$\n",
    "\\begin{align}\n",
    "\\psi_{1}(0) &= \\psi_{2}(0)\\\\\n",
    "\\frac{d\\psi_{1}(0)}{dx} &= \\frac{d\\psi_{2}(0)}{dx}\\\\\n",
    "\\psi_{2}(a) &= \\psi_{3}(a)\\\\\n",
    "\\frac{d\\psi_{2}(a)}{dx} &= \\frac{d\\psi_{3}(a)}{dx}\n",
    "\\end{align}\n",
    "$$\n",
    "\n",
    "This gives us the following set of simultanious equations\n",
    "$$\n",
    "\\begin{align}\n",
    "A          + B         &= C + D\\\\\n",
    "ik_{out}A   - ik_{out}B &= ik_{in}C -ik_{in} D\\\\\n",
    "C e^{ik_{in}a}  + D e^{-ik_{in}a}  &= E e^{ik_{out}a}\\\\\n",
    "ik_{in}C e^{ik_{in}a}-ik_{in}D e^{-ik_{in}a} &= ik_{out}E e^{ik_{out}a}\n",
    "\\end{align}\n",
    "$$\n",
    "\n",
    "Now we can set $A = 1$, $B=r$ and $C=t$ to represent the incoming, reclected and transmitted\n",
    "$$\n",
    "\\begin{align}\n",
    "1          + r         &= C + D\\\\\n",
    "ik_{out}   - ik_{out}r &= ik_{in}C -ik_{in} D\\\\\n",
    "C e^{ik_{in}a}  + D e^{-ik_{in}a}  &= t e^{ik_{out}a}\\\\\n",
    "ik_{in}C e^{ik_{in}a}-ik_{in}D e^{-ik_{in}a} &= ik_{out}t e^{ik_{out}a}\n",
    "\\end{align}\n",
    "$$\n",
    "\n",
    "Rearranging the second equation gives us\n",
    "$$\n",
    "\\frac{k_{out}}{k_{in}}(1-r) = C-D\n",
    "$$\n",
    "Now, adding and/or substracting this with the first equation gives us\n",
    "\n",
    "$$\n",
    "\\begin{align}\n",
    "2C &=1+r+\\frac{k_{out}}{k_{in}}(1-r) \\\\\n",
    "2D &=1+r-\\frac{k_{out}}{k_{in}}(1-r) \\\\\n",
    "\\end{align}\n",
    "$$\n",
    "Simiarly, the fourth equation can be rearranged to give\n",
    "$$\n",
    "C e^{ik_{in}a} - D e^{-ik_{in}a} = \\frac{k_{out}} {k_{in}} t e^{ik_{out}a}\n",
    "$$\n",
    "\n",
    "which can be added and subtracted to the third equation to give\n",
    "\n",
    "$$\n",
    "\\begin{align}\n",
    "2C e^{ik_{in}a}&= t e^{ik_{out}a} + \\frac{k_{out}}{k_{in}}t e^{ik_{out}a}\\\\\n",
    "2D e^{-ik_{in}a}&= t e^{ik_{out}a} - \\frac{k_{out}}{k_{in}}t e^{ik_{out}a}\\\\\n",
    "\\end{align}\n",
    "$$\n",
    "\n",
    "We can show that\n",
    "\n",
    "$$\n",
    "r = \\frac{(k_{out}^2-k_{in}^2)\\sin(ak_{in})}{2ik_{out}k_{in}\\cos(ak_{in}) +(k_{out}^2+k_{in}^2)\\sin(ak_{in}) }\n",
    "$$\n",
    "\n",
    "$$\n",
    "t = \\frac{4 k_{in} k_{out} e^{-ia(k_{out}-k_{in})} }{ (k_{out}+k_{in})^2 - e^{2iak_{in}}(k_{out}-k_{in})^2 } \n",
    "$$"
   ]
  },
  {
   "cell_type": "code",
   "execution_count": 82,
   "id": "65d7aa73",
   "metadata": {},
   "outputs": [],
   "source": [
    "## Define the wavefunction as it's own function so we can reuse it\n",
    "\n",
    "def calc_wavefunction(x,a,V,E,m):\n",
    "    # Calculate the wave numbers\n",
    "    k_out = np.sqrt(2*m*(1.+0.j)*E/hbarc**2)\n",
    "    k_in  = np.sqrt(2*m*(1.+0.j)*(E-V)/hbarc**2)\n",
    "    \n",
    "    r = ((k_out*k_out-k_in*k_in)*np.sin(a*k_in)) / (2.j*k_out * k_in * np.cos(a*k_in) + (k_out*k_out + k_in*k_in) * np.sin(a*k_in))\n",
    "    t = (4*k_in*k_out*np.exp(-1.j*a*(k_out-k_in)) ) / ((k_out+k_in)**2 - np.exp(2.j*a*k_in)*(k_out-k_in)**2)\n",
    "    \n",
    "    C = 0.5*(1+r+(k_out/k_in)*(1-r) )\n",
    "    D = 0.5*(1+r-(k_out/k_in)*(1-r) )\n",
    "    \n",
    "    fcn_r1_plus  =   np.exp( 1.j*x*k_out)*(x<0.0)\n",
    "    fcn_r1_minus = r*np.exp(-1.j*x*k_out)*(x<0.0)\n",
    "    fcn_r2_plus  = C*np.exp( 1.j*x*k_in) *((x>0.0)& (x<a)) \n",
    "    fcn_r2_minus = D*np.exp(-1.j*x*k_in) *((x>0.0)& (x<a))\n",
    "    fcn_r3_plus  = t*np.exp( 1.j*x*k_out)*(x>a)\n",
    "    \n",
    "    wavefunction = fcn_r1_plus + fcn_r1_minus + fcn_r2_plus + fcn_r2_minus + fcn_r3_plus \n",
    "    \n",
    "    return {\"total\"    : wavefunction,\n",
    "            \"r1_plus\"  : fcn_r1_plus,\n",
    "            \"r1_minus\" : fcn_r1_minus,\n",
    "            \"r2_plus\"  : fcn_r2_plus,\n",
    "            \"r2_minus\" : fcn_r2_minus,\n",
    "            \"r3_plus\"  : fcn_r3_plus,\n",
    "            \"t\"        : t,\n",
    "            \"r\"        : r}\n"
   ]
  },
  {
   "cell_type": "code",
   "execution_count": 83,
   "id": "e56ce577",
   "metadata": {},
   "outputs": [
    {
     "data": {
      "application/vnd.jupyter.widget-view+json": {
       "model_id": "b3872685ba354ab58db6c084919fb7c1",
       "version_major": 2,
       "version_minor": 0
      },
      "text/plain": [
       "interactive(children=(FloatSlider(value=100.0, description='a [fm]', max=1000.0, min=0.01), FloatSlider(value=…"
      ]
     },
     "metadata": {},
     "output_type": "display_data"
    }
   ],
   "source": [
    "a = FloatSlider(value = 100.0, min=0.01, max=1000.0, steps=0.1,description = 'a [fm]')\n",
    "E = FloatSlider(value = 1.0, min=0.01, max=5.0, steps=0.1,description = 'E [MeV]')\n",
    "V = FloatSlider(value = 2.0, min=-2.0, max=5.0, steps=0.1,description = 'V [MeV]')\n",
    "m = FloatSlider(value = 0.5, min=0.01, max=5.0, steps=0.1,description = 'm [MeV/$c^2$]')\n",
    "@interact\n",
    "def square_barrier(a=a,V=V,E=E,m=m):\n",
    "    # Set up the x axis\n",
    "    min_val = -2000.0\n",
    "    max_val =  2000.0\n",
    "    x = np.linspace(min_val, max_val, 1000)\n",
    "\n",
    "    # Draw the potential function \n",
    "    potential=V*( (x>0.0)& (x<a))\n",
    "    energy = E*(x<=max_val)\n",
    "    \n",
    "    # Calculate the wavefunction\n",
    "    wavefunction = calc_wavefunction(x,a,V,E,m)\n",
    "    \n",
    "    # Plot the real and imaginary parts\n",
    "    fig, ax = plt.subplots(1, 1,figsize=(10,5))\n",
    "    ax.plot(x, np.real(wavefunction['total']),color='lightblue')\n",
    "    ax.plot(x, np.imag(wavefunction['total']),color='lightblue',linestyle='--')\n",
    "    ax2=ax.twinx()\n",
    "    ax2.set_ylabel('Energy [MeV]')\n",
    "    ax.plot(x, potential)\n",
    "    ax.plot(x, energy)\n",
    "    ax.set_ylabel('$\\psi(x)$')\n",
    "    ax.set_xlabel('x [fm]')\n",
    "    ax.set_ylim([-5, 5])\n",
    "\n",
    "    return plt.figure()"
   ]
  },
  {
   "cell_type": "code",
   "execution_count": 84,
   "id": "964c29d1",
   "metadata": {},
   "outputs": [
    {
     "data": {
      "application/vnd.jupyter.widget-view+json": {
       "model_id": "0ac2585c7e2549608a88d193df37ea3c",
       "version_major": 2,
       "version_minor": 0
      },
      "text/plain": [
       "interactive(children=(FloatSlider(value=100.0, description='a', max=1000.0, min=0.01), FloatSlider(value=0.5, …"
      ]
     },
     "metadata": {},
     "output_type": "display_data"
    }
   ],
   "source": [
    "a = FloatSlider(value = 100.0, min=0.01, max=1000.0, steps=0.1)\n",
    "m = FloatSlider(value = 0.5, min=0.01, max=5.0, steps=0.1,description = 'm [MeV/$c^2$]')\n",
    "@interact\n",
    "def transmission(a=a,m=m):\n",
    "    ## Set up the \n",
    "    min_val =  0.0\n",
    "    max_val =  3.1\n",
    "    E = np.linspace(min_val, max_val, 1000)\n",
    "    V = 1.0\n",
    "    classical = (E>V)\n",
    "    wavefunction = calc_wavefunction(a+1,a,V,E,m)\n",
    "    \n",
    "    fig, ax = plt.subplots(1, 2,figsize=(10,5))\n",
    "    \n",
    "    ax[0].plot(E, np.abs(wavefunction['t']*wavefunction['t']))\n",
    "    ax[0].plot(E, classical, color='black', linestyle='--')\n",
    "    ax[0].set_ylabel('Transmission probability')\n",
    "    ax[0].set_xlabel('E')\n",
    "    ax[0].set_ylim([0, 1.1])\n",
    "    \n",
    "    ax[1].plot(E, np.abs(wavefunction['r']*wavefunction['r']))\n",
    "    ax[1].plot(E, (E<V), color='black', linestyle='--')\n",
    "    ax[1].set_ylabel('Reflection probability')\n",
    "    ax[1].set_xlabel('E')\n",
    "    ax[1].set_ylim([0, 1.1])\n",
    "\n",
    "    return plt.figure()"
   ]
  },
  {
   "cell_type": "code",
   "execution_count": null,
   "id": "56f09662",
   "metadata": {},
   "outputs": [],
   "source": []
  },
  {
   "cell_type": "code",
   "execution_count": null,
   "id": "79f987e2",
   "metadata": {},
   "outputs": [],
   "source": []
  }
 ],
 "metadata": {
  "kernelspec": {
   "display_name": "Python 3 (ipykernel)",
   "language": "python",
   "name": "python3"
  },
  "language_info": {
   "codemirror_mode": {
    "name": "ipython",
    "version": 3
   },
   "file_extension": ".py",
   "mimetype": "text/x-python",
   "name": "python",
   "nbconvert_exporter": "python",
   "pygments_lexer": "ipython3",
   "version": "3.10.4"
  }
 },
 "nbformat": 4,
 "nbformat_minor": 5
}
